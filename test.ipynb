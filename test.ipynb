{
 "cells": [
  {
   "cell_type": "code",
   "execution_count": 1,
   "id": "479e372f",
   "metadata": {},
   "outputs": [],
   "source": [
    "from kernel import hadamard\n",
    "import tilelang\n",
    "import tilelang.language as T\n",
    "from tilelang.profiler.bench import do_bench\n",
    "from fast_hadamard_transform import hadamard_transform\n",
    "from ref import hadamard_transform_ref\n",
    "import torch"
   ]
  },
  {
   "cell_type": "code",
   "execution_count": 2,
   "id": "af401dde",
   "metadata": {},
   "outputs": [],
   "source": [
    "def test(b=1024, d=8192, dtype=torch.float32):\n",
    "    x = torch.rand(b, d, dtype=dtype, device='cuda')\n",
    "    fn = hadamard(b, d, dtype.__str__().split('.')[-1])\n",
    "    kernel = tilelang.compile(fn, out_idx=1, target='cuda')\n",
    "    print(f'Test for {d=} and {dtype=}:', end=' ')\n",
    "    if torch.allclose(\n",
    "        kernel(x), hadamard_transform(x), atol=1e-3, rtol=1e-3\n",
    "    ):\n",
    "        print('Passed')\n",
    "    else:\n",
    "        print('Failed')"
   ]
  },
  {
   "cell_type": "code",
   "execution_count": 3,
   "id": "bfeb6a6d",
   "metadata": {},
   "outputs": [
    {
     "name": "stdout",
     "output_type": "stream",
     "text": [
      "Test for d=2 and dtype=torch.float32: Passed\n",
      "Test for d=4 and dtype=torch.float32: Passed\n",
      "Test for d=8 and dtype=torch.float32: Passed\n",
      "Test for d=16 and dtype=torch.float32: Passed\n",
      "Test for d=32 and dtype=torch.float32: Passed\n",
      "Test for d=64 and dtype=torch.float32: Passed\n",
      "Test for d=128 and dtype=torch.float32: Passed\n",
      "Test for d=256 and dtype=torch.float32: Passed\n",
      "Test for d=512 and dtype=torch.float32: Passed\n",
      "Test for d=1024 and dtype=torch.float32: Passed\n",
      "Test for d=2048 and dtype=torch.float32: Passed\n",
      "Test for d=4096 and dtype=torch.float32: Passed\n",
      "Test for d=8192 and dtype=torch.float32: Passed\n",
      "Test for d=16384 and dtype=torch.float32: Passed\n",
      "Test for d=32768 and dtype=torch.float32: Passed\n"
     ]
    }
   ],
   "source": [
    "for logd in range(1, 16):\n",
    "    d = 2 ** logd\n",
    "    test(d=d)"
   ]
  },
  {
   "cell_type": "code",
   "execution_count": 4,
   "id": "2a2672c9",
   "metadata": {},
   "outputs": [],
   "source": [
    "b, d, dtype = 1024, 32768, torch.float32\n",
    "fn = hadamard(b, d, dtype.__str__().split('.')[-1])\n",
    "kernel = tilelang.compile(fn, out_idx=1, target='cuda')\n",
    "x = torch.rand(b, d, dtype=dtype, device='cuda')\n",
    "def dao_impl():\n",
    "    hadamard_transform(x)\n",
    "\n",
    "def my_impl():\n",
    "    kernel(x)"
   ]
  },
  {
   "cell_type": "code",
   "execution_count": 5,
   "id": "4f5a02dd",
   "metadata": {},
   "outputs": [
    {
     "data": {
      "text/plain": [
       "0.2274106740951538"
      ]
     },
     "execution_count": 5,
     "metadata": {},
     "output_type": "execute_result"
    }
   ],
   "source": [
    "do_bench(\n",
    "    dao_impl,\n",
    "    warmup=5,\n",
    "    rep=10,\n",
    ")"
   ]
  },
  {
   "cell_type": "code",
   "execution_count": 6,
   "id": "56027817",
   "metadata": {},
   "outputs": [
    {
     "data": {
      "text/plain": [
       "0.7353367209434509"
      ]
     },
     "execution_count": 6,
     "metadata": {},
     "output_type": "execute_result"
    }
   ],
   "source": [
    "do_bench(\n",
    "    my_impl,\n",
    "    warmup=5,\n",
    "    rep=10,\n",
    ")"
   ]
  }
 ],
 "metadata": {
  "kernelspec": {
   "display_name": "tilelang",
   "language": "python",
   "name": "python3"
  },
  "language_info": {
   "codemirror_mode": {
    "name": "ipython",
    "version": 3
   },
   "file_extension": ".py",
   "mimetype": "text/x-python",
   "name": "python",
   "nbconvert_exporter": "python",
   "pygments_lexer": "ipython3",
   "version": "3.12.0"
  }
 },
 "nbformat": 4,
 "nbformat_minor": 5
}
